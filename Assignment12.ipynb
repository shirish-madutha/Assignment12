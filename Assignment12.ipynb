{
 "cells": [
  {
   "cell_type": "code",
   "execution_count": null,
   "id": "a77d1415-f030-404d-84f3-76048f560ba2",
   "metadata": {},
   "outputs": [],
   "source": [
    "\"\"\" Q1.what is an exception in python? write the difference between exceptions and syntax  errors. \"\"\"\n",
    "\n",
    "# ans\n",
    "\"\"\" In Python, an exception is an event that occurs during the execution of a program that disrupts the normal flow of instructions. \n",
    "Exceptions are used to handle errors and other exceptional events that occur while a program is running.\n",
    "When an exception is raised, the program stops executing and control is transferred to the nearest exception handler \n",
    "that can handle the specific type of exception raised.\n",
    "\n",
    "Syntax errors, on the other hand, are errors that occur when the Python interpreter encounters code that violates the rules of the Python language.\n",
    "Syntax errors are usually caused by typos or other mistakes in the code, such as a missing or misplaced bracket, quotation mark, or colon. \"\"\""
   ]
  },
  {
   "cell_type": "code",
   "execution_count": 1,
   "id": "ce8bfe2f-40ef-4931-aced-c8932ae2159c",
   "metadata": {},
   "outputs": [
    {
     "name": "stdout",
     "output_type": "stream",
     "text": [
      "An error occurred: division by zero\n"
     ]
    }
   ],
   "source": [
    "\"\"\" Q2. What happens when an exception is not handled? Explain with an example. \"\"\"\n",
    "\n",
    "# ans\n",
    "\"\"\" When an exception is not handled, it will propagate up the call stack until it is either caught or the program terminates.\n",
    "If the exception reaches the top of the call stack and is still not handled, the program will terminate with an error message. \"\"\"\n",
    "\n",
    "# example\n",
    "def divide(x, y):\n",
    "    return x / y\n",
    "\n",
    "try:\n",
    "    result = divide(10, 0)\n",
    "    print(result)\n",
    "except Exception as e:\n",
    "    print(\"An error occurred:\", e)"
   ]
  },
  {
   "cell_type": "code",
   "execution_count": 9,
   "id": "6b9d0b64-a403-4ae5-823b-6a1b2738b72e",
   "metadata": {},
   "outputs": [
    {
     "name": "stdout",
     "output_type": "stream",
     "text": [
      "division by zero exception is occured\n"
     ]
    },
    {
     "data": {
      "text/plain": [
       "5.0"
      ]
     },
     "execution_count": 9,
     "metadata": {},
     "output_type": "execute_result"
    }
   ],
   "source": [
    "\"\"\" Q3.which python statements are used to catch and handle exceptions? Example with an example. \"\"\"\n",
    "\n",
    "# ans\n",
    "\"\"\" In Python, you can use a try statement to catch and handle exceptions. \n",
    "The try statement is followed by a block of code that may raise an exception, and a except statement \n",
    "that defines what to do if an exception is raised.\n",
    "The except block is executed only if an exception is raised in the corresponding try block. \"\"\"\n",
    "\n",
    "# example\n",
    "\n",
    "def f(x,y):\n",
    "    try:\n",
    "        return x/y\n",
    "    except Exception as e:\n",
    "        print(f\"{e} exception is occured\")\n",
    "\n",
    "f(10,0)\n",
    "f(10,2)"
   ]
  },
  {
   "cell_type": "code",
   "execution_count": 2,
   "id": "48e74db2-78db-4554-a4c1-4d62e5227783",
   "metadata": {},
   "outputs": [
    {
     "name": "stdin",
     "output_type": "stream",
     "text": [
      "Enter a number:  451\n",
      "Enter another number:  0\n"
     ]
    },
    {
     "name": "stdout",
     "output_type": "stream",
     "text": [
      "Error: Cannot divide by zero\n",
      "Program complete.\n"
     ]
    }
   ],
   "source": [
    "\"\"\" 4.Example with an example.  1]try and else 2]finally 3]raise \"\"\"\n",
    "\n",
    "# ans\n",
    "\"\"\" 1. try-else statement:\n",
    "The try-else statement allows you to specify a block of code to be executed if no exceptions are raised in the try block. \"\"\"\n",
    "\n",
    "\"\"\" 2. finally statement:\n",
    "the finally block is executed regardless of whether an exception was raised or not, and a completion message is printed. \"\"\"\n",
    "\n",
    "# example\n",
    "try:\n",
    "    num1 = int(input(\"Enter a number: \"))\n",
    "    num2 = int(input(\"Enter another number: \"))\n",
    "    if num2 == 0:\n",
    "        raise ZeroDivisionError(\"Cannot divide by zero\")\n",
    "    result = num1 / num2\n",
    "except ValueError as e:\n",
    "    print(\"Invalid input:\", e)\n",
    "except ZeroDivisionError as e:\n",
    "    print(\"Error:\", e)\n",
    "else:\n",
    "    print(\"The result is:\", result)\n",
    "finally:\n",
    "    print(\"Program complete.\")"
   ]
  },
  {
   "cell_type": "code",
   "execution_count": 9,
   "id": "84162325-9b3d-4464-b0b7-c9624c905215",
   "metadata": {},
   "outputs": [
    {
     "ename": "NotEnoughExamsException",
     "evalue": "At least two exam scores are required",
     "output_type": "error",
     "traceback": [
      "\u001b[0;31m---------------------------------------------------------------------------\u001b[0m",
      "\u001b[0;31mNotEnoughExamsException\u001b[0m                   Traceback (most recent call last)",
      "Cell \u001b[0;32mIn[9], line 19\u001b[0m\n\u001b[1;32m     16\u001b[0m         total \u001b[38;5;241m=\u001b[39m \u001b[38;5;28msum\u001b[39m(exam_scores)\n\u001b[1;32m     17\u001b[0m         \u001b[38;5;28;01mreturn\u001b[39;00m total \u001b[38;5;241m/\u001b[39m \u001b[38;5;28mlen\u001b[39m(exam_scores)\n\u001b[0;32m---> 19\u001b[0m \u001b[43mcalculate_average_grade\u001b[49m\u001b[43m(\u001b[49m\u001b[43m[\u001b[49m\u001b[38;5;241;43m1\u001b[39;49m\u001b[43m]\u001b[49m\u001b[43m)\u001b[49m\n",
      "Cell \u001b[0;32mIn[9], line 14\u001b[0m, in \u001b[0;36mcalculate_average_grade\u001b[0;34m(exam_scores)\u001b[0m\n\u001b[1;32m     12\u001b[0m \u001b[38;5;28;01mdef\u001b[39;00m \u001b[38;5;21mcalculate_average_grade\u001b[39m(exam_scores):\n\u001b[1;32m     13\u001b[0m     \u001b[38;5;28;01mif\u001b[39;00m \u001b[38;5;28mlen\u001b[39m(exam_scores) \u001b[38;5;241m<\u001b[39m \u001b[38;5;241m2\u001b[39m:\n\u001b[0;32m---> 14\u001b[0m         \u001b[38;5;28;01mraise\u001b[39;00m NotEnoughExamsException(\u001b[38;5;124m\"\u001b[39m\u001b[38;5;124mAt least two exam scores are required\u001b[39m\u001b[38;5;124m\"\u001b[39m)\n\u001b[1;32m     15\u001b[0m     \u001b[38;5;28;01melse\u001b[39;00m:\n\u001b[1;32m     16\u001b[0m         total \u001b[38;5;241m=\u001b[39m \u001b[38;5;28msum\u001b[39m(exam_scores)\n",
      "\u001b[0;31mNotEnoughExamsException\u001b[0m: At least two exam scores are required"
     ]
    }
   ],
   "source": [
    "\"\"\" 5.what are custom exceptions in python ? why do we need custom exceptions ? Explain with an example. \"\"\"\n",
    "\n",
    "# ans\n",
    "\"\"\" In Python, we can define our own custom exceptions using the raise statement. \n",
    "Custom exceptions allow us to create more specific error messages that are tailored to our particular use case. \n",
    "They also help to improve the readability and maintainability of our code by providing a clear and consistent way to handle errors. \"\"\"\n",
    "\n",
    "# example\n",
    "class NotEnoughExamsException(Exception):\n",
    "    pass\n",
    "\n",
    "def calculate_average_grade(exam_scores):\n",
    "    if len(exam_scores) < 2:\n",
    "        raise NotEnoughExamsException(\"At least two exam scores are required\")\n",
    "    else:\n",
    "        total = sum(exam_scores)\n",
    "        return total / len(exam_scores)\n",
    "    \n",
    "calculate_average_grade([1])"
   ]
  },
  {
   "cell_type": "code",
   "execution_count": 10,
   "id": "6978a160-77da-45fa-a56d-f8dd46d854cb",
   "metadata": {},
   "outputs": [
    {
     "name": "stdout",
     "output_type": "stream",
     "text": [
      "Negative number -9 not allowed\n"
     ]
    }
   ],
   "source": [
    "\"\"\" Q6. Create a custom exception class. Use this class to handle an exception. \"\"\"\n",
    "\n",
    "class NegativeNumberError(Exception):\n",
    "    def __init__(self, number):\n",
    "        self.number = number\n",
    "        super().__init__(f\"Negative number {self.number} not allowed\")\n",
    "\n",
    "def square_root(num):\n",
    "    if num < 0:\n",
    "        raise NegativeNumberError(num)\n",
    "    return num ** 0.5\n",
    "\n",
    "try:\n",
    "    result = square_root(-9)\n",
    "    print(result)\n",
    "except NegativeNumberError as e:\n",
    "    print(e)"
   ]
  }
 ],
 "metadata": {
  "kernelspec": {
   "display_name": "Python 3 (ipykernel)",
   "language": "python",
   "name": "python3"
  },
  "language_info": {
   "codemirror_mode": {
    "name": "ipython",
    "version": 3
   },
   "file_extension": ".py",
   "mimetype": "text/x-python",
   "name": "python",
   "nbconvert_exporter": "python",
   "pygments_lexer": "ipython3",
   "version": "3.10.8"
  }
 },
 "nbformat": 4,
 "nbformat_minor": 5
}
